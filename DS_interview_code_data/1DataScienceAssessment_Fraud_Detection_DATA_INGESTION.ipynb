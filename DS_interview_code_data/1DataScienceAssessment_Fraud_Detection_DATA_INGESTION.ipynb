{
 "cells": [
  {
   "cell_type": "code",
   "execution_count": 1,
   "metadata": {},
   "outputs": [],
   "source": [
    "%matplotlib inline\n",
    "import os\n",
    "if os.path.exists(\"myScripts/dataingestion.py\"):\n",
    "    os.remove(\"myScripts/dataingestion.py\")"
   ]
  },
  {
   "cell_type": "code",
   "execution_count": 2,
   "metadata": {},
   "outputs": [
    {
     "name": "stdout",
     "output_type": "stream",
     "text": [
      "Writing myScripts/dataingestion.py\n"
     ]
    }
   ],
   "source": [
    "%%writefile myScripts/dataingestion.py -a \n",
    "import pandas as pd\n",
    "import numpy as np"
   ]
  },
  {
   "cell_type": "code",
   "execution_count": 3,
   "metadata": {},
   "outputs": [
    {
     "name": "stdout",
     "output_type": "stream",
     "text": [
      "Appending to myScripts/dataingestion.py\n"
     ]
    }
   ],
   "source": [
    "%%writefile myScripts/dataingestion.py -a\n",
    "\n",
    "## Merge two dataframes in range\n",
    "def merge_on_range(A, B):\n",
    "    '''\n",
    "    Args: \n",
    "        Dataframe A consists of the ip_addresses associated with each transaction\n",
    "        Dataframe B consists of lower and upper bounds of ip_addresses corresponding to each country\n",
    "        \n",
    "    Output:\n",
    "        Dataframe that uniquely maps each ip_address to a \n",
    "        specific country and returns a null if a match is not found\n",
    "    '''\n",
    "    a = A.ip_address.values\n",
    "    bh = B.upper_bound_ip_address.astype(float).values\n",
    "    bl = B.lower_bound_ip_address.astype(float).values\n",
    "\n",
    "    i, j = np.where((a[:, None] >= bl) & (a[:, None] <= bh))\n",
    "\n",
    "    return pd.DataFrame(\n",
    "        np.column_stack([A.values[i], B.values[j]]),\n",
    "        columns=A.columns.append(B.columns)\n",
    "    ).drop(['lower_bound_ip_address', 'upper_bound_ip_address'], axis = 1)\n",
    "\n",
    "def join_datasets(fraud_datapath, IPtoCountry_datapath, output_path):\n",
    "    '''\n",
    "    Args: \n",
    "        fraud_datapath: path to the csv file containing dataset with all transactions\n",
    "        IPtoCountry_datapath: path to the xlsx file with lower and upper bounds of ip_addresses for each country\n",
    "        output_path: path for the output of mapping function\n",
    "    Output:\n",
    "        Dataframe that uniquely maps each ip_address to a specific country\n",
    "        Dataframe is also saved as a csv file in the output_path\n",
    "    '''\n",
    "    fraud_df = pd.read_csv(fraud_datapath).drop('Unnamed: 0', axis = 1)\n",
    "    ip_mapping_df = pd.read_excel(IPtoCountry_datapath)\n",
    "    df_joined = merge_on_range(fraud_df, ip_mapping_df)\n",
    "\n",
    "    ## Some IPs do not fall within any range\n",
    "    country_na = fraud_df[~fraud_df.user_id.isin(df_joined.user_id)]\n",
    "\n",
    "    ## Bring them in to the analysis dataset with missing country information\n",
    "    analysis_df = pd.concat([df_joined, country_na], sort = False).fillna('NA')\n",
    "    analysis_df.to_csv(output_path)\n",
    "    \n",
    "    return analysis_df"
   ]
  },
  {
   "cell_type": "code",
   "execution_count": 4,
   "metadata": {},
   "outputs": [],
   "source": [
    "## Run once\n",
    "from myScripts.dataingestion import join_datasets\n",
    "analysis_df = join_datasets(fraud_datapath = 'Candidate_tech_evaluation_candidate_copy_data science_fraud.csv',\n",
    "                            IPtoCountry_datapath = 'Candidate_tech_evaluation_candidate_copy_datascience_IpAddress_to_Country.xlsx', \n",
    "                            output_path = 'Analysis_dataset.csv')"
   ]
  },
  {
   "cell_type": "code",
   "execution_count": 5,
   "metadata": {},
   "outputs": [
    {
     "data": {
      "text/html": [
       "<div>\n",
       "<style scoped>\n",
       "    .dataframe tbody tr th:only-of-type {\n",
       "        vertical-align: middle;\n",
       "    }\n",
       "\n",
       "    .dataframe tbody tr th {\n",
       "        vertical-align: top;\n",
       "    }\n",
       "\n",
       "    .dataframe thead th {\n",
       "        text-align: right;\n",
       "    }\n",
       "</style>\n",
       "<table border=\"1\" class=\"dataframe\">\n",
       "  <thead>\n",
       "    <tr style=\"text-align: right;\">\n",
       "      <th></th>\n",
       "      <th>user_id</th>\n",
       "      <th>signup_time</th>\n",
       "      <th>purchase_time</th>\n",
       "      <th>purchase_value</th>\n",
       "      <th>device_id</th>\n",
       "      <th>source</th>\n",
       "      <th>browser</th>\n",
       "      <th>sex</th>\n",
       "      <th>age</th>\n",
       "      <th>ip_address</th>\n",
       "      <th>class</th>\n",
       "      <th>country</th>\n",
       "    </tr>\n",
       "  </thead>\n",
       "  <tbody>\n",
       "    <tr>\n",
       "      <th>0</th>\n",
       "      <td>285108</td>\n",
       "      <td>7/15/2015 4:36</td>\n",
       "      <td>9/10/2015 14:17</td>\n",
       "      <td>31</td>\n",
       "      <td>HZAKVUFTDOSFD</td>\n",
       "      <td>Direct</td>\n",
       "      <td>Chrome</td>\n",
       "      <td>M</td>\n",
       "      <td>49</td>\n",
       "      <td>2.818400e+09</td>\n",
       "      <td>0</td>\n",
       "      <td>United States</td>\n",
       "    </tr>\n",
       "    <tr>\n",
       "      <th>1</th>\n",
       "      <td>131009</td>\n",
       "      <td>1/24/2015 12:29</td>\n",
       "      <td>4/13/2015 4:53</td>\n",
       "      <td>31</td>\n",
       "      <td>XGQAJSOUJIZCC</td>\n",
       "      <td>SEO</td>\n",
       "      <td>IE</td>\n",
       "      <td>F</td>\n",
       "      <td>21</td>\n",
       "      <td>3.251268e+09</td>\n",
       "      <td>0</td>\n",
       "      <td>United Kingdom</td>\n",
       "    </tr>\n",
       "    <tr>\n",
       "      <th>2</th>\n",
       "      <td>328855</td>\n",
       "      <td>3/11/2015 0:54</td>\n",
       "      <td>4/5/2015 12:23</td>\n",
       "      <td>16</td>\n",
       "      <td>VCCTAYDCWKZIY</td>\n",
       "      <td>Direct</td>\n",
       "      <td>IE</td>\n",
       "      <td>M</td>\n",
       "      <td>26</td>\n",
       "      <td>2.727760e+09</td>\n",
       "      <td>0</td>\n",
       "      <td>United States</td>\n",
       "    </tr>\n",
       "    <tr>\n",
       "      <th>3</th>\n",
       "      <td>229053</td>\n",
       "      <td>1/7/2015 13:19</td>\n",
       "      <td>1/9/2015 10:12</td>\n",
       "      <td>29</td>\n",
       "      <td>MFFIHYNXCJLEY</td>\n",
       "      <td>SEO</td>\n",
       "      <td>Chrome</td>\n",
       "      <td>M</td>\n",
       "      <td>34</td>\n",
       "      <td>2.083420e+09</td>\n",
       "      <td>0</td>\n",
       "      <td>Korea Republic of</td>\n",
       "    </tr>\n",
       "    <tr>\n",
       "      <th>4</th>\n",
       "      <td>108439</td>\n",
       "      <td>2/8/2015 21:11</td>\n",
       "      <td>4/9/2015 14:26</td>\n",
       "      <td>26</td>\n",
       "      <td>WMSXWGVPNIFBM</td>\n",
       "      <td>Ads</td>\n",
       "      <td>FireFox</td>\n",
       "      <td>M</td>\n",
       "      <td>33</td>\n",
       "      <td>3.207913e+09</td>\n",
       "      <td>0</td>\n",
       "      <td>Brazil</td>\n",
       "    </tr>\n",
       "  </tbody>\n",
       "</table>\n",
       "</div>"
      ],
      "text/plain": [
       "   user_id      signup_time    purchase_time  purchase_value      device_id  \\\n",
       "0   285108   7/15/2015 4:36  9/10/2015 14:17              31  HZAKVUFTDOSFD   \n",
       "1   131009  1/24/2015 12:29   4/13/2015 4:53              31  XGQAJSOUJIZCC   \n",
       "2   328855   3/11/2015 0:54   4/5/2015 12:23              16  VCCTAYDCWKZIY   \n",
       "3   229053   1/7/2015 13:19   1/9/2015 10:12              29  MFFIHYNXCJLEY   \n",
       "4   108439   2/8/2015 21:11   4/9/2015 14:26              26  WMSXWGVPNIFBM   \n",
       "\n",
       "   source  browser sex  age    ip_address  class            country  \n",
       "0  Direct   Chrome   M   49  2.818400e+09      0      United States  \n",
       "1     SEO       IE   F   21  3.251268e+09      0     United Kingdom  \n",
       "2  Direct       IE   M   26  2.727760e+09      0      United States  \n",
       "3     SEO   Chrome   M   34  2.083420e+09      0  Korea Republic of  \n",
       "4     Ads  FireFox   M   33  3.207913e+09      0             Brazil  "
      ]
     },
     "execution_count": 5,
     "metadata": {},
     "output_type": "execute_result"
    }
   ],
   "source": [
    "analysis_df.head()"
   ]
  }
 ],
 "metadata": {
  "kernelspec": {
   "display_name": "Python 3",
   "language": "python",
   "name": "python3"
  },
  "language_info": {
   "codemirror_mode": {
    "name": "ipython",
    "version": 3
   },
   "file_extension": ".py",
   "mimetype": "text/x-python",
   "name": "python",
   "nbconvert_exporter": "python",
   "pygments_lexer": "ipython3",
   "version": "3.7.3"
  }
 },
 "nbformat": 4,
 "nbformat_minor": 2
}
